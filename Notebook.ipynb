{
 "cells": [
  {
   "cell_type": "code",
   "execution_count": 16,
   "metadata": {},
   "outputs": [],
   "source": [
    "def first_path_element(resource_path):\n",
    "    \"\"\"\n",
    "    Extracts the first path element from a resource path.\n",
    "\n",
    "    Parameters:\n",
    "    - resource_path (str): The resource path.\n",
    "\n",
    "    Returns:\n",
    "    - str: The first path element.\n",
    "    \"\"\"\n",
    "    if not resource_path:\n",
    "        return None\n",
    "    \n",
    "    # Split the resource path by '/'\n",
    "    return resource_path.split('/')[1]\n",
    "    \n"
   ]
  },
  {
   "cell_type": "code",
   "execution_count": 17,
   "metadata": {},
   "outputs": [
    {
     "name": "stdout",
     "output_type": "stream",
     "text": [
      "users\n"
     ]
    }
   ],
   "source": [
    "resource_path = \"/users/{id}/details\"\n",
    "first_element = first_path_element(resource_path)\n",
    "print(first_element)  # Output will be \"users\"\n"
   ]
  },
  {
   "cell_type": "markdown",
   "metadata": {},
   "source": [
    "Chinook Database\n",
    "\n",
    "https://github.com/lerocha/chinook-database/releases\n",
    "\n"
   ]
  },
  {
   "cell_type": "code",
   "execution_count": 1,
   "metadata": {},
   "outputs": [
    {
     "name": "stdout",
     "output_type": "stream",
     "text": [
      "{'apple': 'a', 'banana': 'b', 'apricot': 'ap', 'orange': 'o'}\n"
     ]
    }
   ],
   "source": [
    "def shortest_unique_substrings(strings):\n",
    "    \"\"\"\n",
    "    Given a list of strings, returns a dictionary where the keys are the list of strings.\n",
    "    The value for each item is the shortest substring of the key possible while having unique values in the dictionary.\n",
    "\n",
    "    Parameters:\n",
    "    - strings (list of str): List of strings.\n",
    "\n",
    "    Returns:\n",
    "    - dict: A dictionary where the keys are the original strings and the values are the shortest unique substrings.\n",
    "    \"\"\"\n",
    "    result = {}\n",
    "\n",
    "    for string in strings:\n",
    "        for i in range(1, len(string) + 1):\n",
    "            substring = string[:i]\n",
    "            if substring not in result.values():\n",
    "                result[string] = substring\n",
    "                break\n",
    "\n",
    "    return result\n",
    "\n",
    "# Example usage:\n",
    "strings = ['apple', 'banana', 'apricot', 'orange']\n",
    "result = shortest_unique_substrings(strings)\n",
    "print(result)\n"
   ]
  },
  {
   "cell_type": "code",
   "execution_count": 7,
   "metadata": {},
   "outputs": [
    {
     "name": "stdout",
     "output_type": "stream",
     "text": [
      "{'pref_apple_count': 5, 'pref_banana_size': 'large', 'pref_car_color': 'blue', 'pref_123_dog_breed': 'labrador'}\n",
      "{'pref_apple_count': 5}\n"
     ]
    }
   ],
   "source": [
    "import re\n",
    "\n",
    "def filter_and_prefix_keys(prefix, regex_list, dictionary):\n",
    "    \"\"\"\n",
    "    Accepts a prefix string, list of regular expressions, and a dictionary.\n",
    "    Returns a new dictionary containing items whose keys match any of the regular expressions,\n",
    "    with the prefix string prepended to the key values of the dictionary.\n",
    "\n",
    "    Parameters:\n",
    "    - prefix (str): The prefix string to prepend to the key values.\n",
    "    - regex_list (list of str): The list of regular expression patterns to match keys.\n",
    "    - dictionary (dict): The input dictionary.\n",
    "\n",
    "    Returns:\n",
    "    - dict: A new dictionary containing filtered items with modified key values.\n",
    "    \"\"\"\n",
    "    filtered_dict = {}\n",
    "\n",
    "    # Compile the regular expression patterns\n",
    "    compiled_regexes = [re.compile(regex) for regex in regex_list]\n",
    "\n",
    "    # Iterate over the items in the input dictionary\n",
    "    for key, value in dictionary.items():\n",
    "        # Check if the key matches any of the regular expression patterns\n",
    "        for pattern in compiled_regexes:\n",
    "            if pattern.match(key):\n",
    "                # Prepend the prefix to the key value and add it to the new dictionary\n",
    "                filtered_dict[prefix + key] = value\n",
    "                break\n",
    "\n",
    "    return filtered_dict\n",
    "\n",
    "# Example usage:\n",
    "prefix = \"pref_\"\n",
    "dictionary = {'apple_count': 5, 'banana_size': 'large', 'car_color': 'blue', '123_dog_breed': 'labrador'}\n",
    "\n",
    "regex_list = [r'.*']\n",
    "result = filter_and_prefix_keys(prefix, regex_list, dictionary)\n",
    "print(result)\n",
    "\n",
    "regex_list = [r'apple.*']\n",
    "result = filter_and_prefix_keys(prefix, regex_list, dictionary)\n",
    "print(result)\n"
   ]
  },
  {
   "cell_type": "code",
   "execution_count": null,
   "metadata": {},
   "outputs": [],
   "source": []
  }
 ],
 "metadata": {
  "kernelspec": {
   "display_name": "Python 3",
   "language": "python",
   "name": "python3"
  },
  "language_info": {
   "codemirror_mode": {
    "name": "ipython",
    "version": 3
   },
   "file_extension": ".py",
   "mimetype": "text/x-python",
   "name": "python",
   "nbconvert_exporter": "python",
   "pygments_lexer": "ipython3",
   "version": "3.11.7"
  }
 },
 "nbformat": 4,
 "nbformat_minor": 2
}
