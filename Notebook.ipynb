{
 "cells": [
  {
   "cell_type": "code",
   "execution_count": 16,
   "metadata": {},
   "outputs": [],
   "source": [
    "def first_path_element(resource_path):\n",
    "    \"\"\"\n",
    "    Extracts the first path element from a resource path.\n",
    "\n",
    "    Parameters:\n",
    "    - resource_path (str): The resource path.\n",
    "\n",
    "    Returns:\n",
    "    - str: The first path element.\n",
    "    \"\"\"\n",
    "    if not resource_path:\n",
    "        return None\n",
    "    \n",
    "    # Split the resource path by '/'\n",
    "    return resource_path.split('/')[1]\n",
    "    \n"
   ]
  },
  {
   "cell_type": "code",
   "execution_count": 17,
   "metadata": {},
   "outputs": [
    {
     "name": "stdout",
     "output_type": "stream",
     "text": [
      "users\n"
     ]
    }
   ],
   "source": [
    "resource_path = \"/users/{id}/details\"\n",
    "first_element = first_path_element(resource_path)\n",
    "print(first_element)  # Output will be \"users\"\n"
   ]
  },
  {
   "cell_type": "markdown",
   "metadata": {},
   "source": [
    "Chinook Database\n",
    "\n",
    "https://github.com/lerocha/chinook-database/releases\n",
    "\n"
   ]
  },
  {
   "cell_type": "markdown",
   "metadata": {},
   "source": []
  }
 ],
 "metadata": {
  "kernelspec": {
   "display_name": "Python 3",
   "language": "python",
   "name": "python3"
  },
  "language_info": {
   "codemirror_mode": {
    "name": "ipython",
    "version": 3
   },
   "file_extension": ".py",
   "mimetype": "text/x-python",
   "name": "python",
   "nbconvert_exporter": "python",
   "pygments_lexer": "ipython3",
   "version": "3.12.2"
  }
 },
 "nbformat": 4,
 "nbformat_minor": 2
}
